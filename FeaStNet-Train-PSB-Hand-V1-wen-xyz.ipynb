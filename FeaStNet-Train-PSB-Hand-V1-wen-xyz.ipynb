{
 "cells": [
  {
   "cell_type": "code",
   "execution_count": 1,
   "metadata": {
    "collapsed": false
   },
   "outputs": [],
   "source": [
    "# !kill -9 20975"
   ]
  },
  {
   "cell_type": "code",
   "execution_count": 2,
   "metadata": {
    "collapsed": false
   },
   "outputs": [],
   "source": [
    "# !nvidia-smi"
   ]
  },
  {
   "cell_type": "code",
   "execution_count": 3,
   "metadata": {
    "collapsed": false
   },
   "outputs": [],
   "source": [
    "import os\n",
    "import shutil\n",
    "os.environ['CUDA_DEVICE_ORDER']=\"PCI_BUS_ID\"\n",
    "os.environ['CUDA_VISIBLE_DEVICES']=\"2\""
   ]
  },
  {
   "cell_type": "code",
   "execution_count": 4,
   "metadata": {
    "collapsed": false,
    "scrolled": false
   },
   "outputs": [
    {
     "name": "stderr",
     "output_type": "stream",
     "text": [
      "/home/mmvc/anaconda2/envs/Xiang_Li/lib/python2.7/site-packages/h5py/__init__.py:34: FutureWarning: Conversion of the second argument of issubdtype from `float` to `np.floating` is deprecated. In future, it will be treated as `np.float64 == np.dtype(float).type`.\n",
      "  from ._conv import register_converters as _register_converters\n"
     ]
    }
   ],
   "source": [
    "from __future__ import division\n",
    "from __future__ import print_function\n",
    "\n",
    "import time\n",
    "import tensorflow as tf\n",
    "import cPickle as pickle\n",
    "\n",
    "from utils import *\n",
    "# from models import GCN, MLP\n",
    "# from models2 import GCN_AE, GCN_SEG, MLP\n",
    "import sys\n",
    "sys.path.append('../')\n",
    "import UtilsLJ\n",
    "sys.path.append('./src/')\n",
    "from model_seg import *\n",
    "from utils import * \n",
    "\n",
    "\n",
    "# Set random seed\n",
    "seed = 123\n",
    "np.random.seed(seed)\n",
    "tf.set_random_seed(seed)"
   ]
  },
  {
   "cell_type": "code",
   "execution_count": 5,
   "metadata": {
    "collapsed": false,
    "scrolled": true
   },
   "outputs": [],
   "source": [
    "batSize=1\n",
    "maxStep=10000 # fixed with learningRate and learningRateDecay\n",
    "learningRate=1e-3\n",
    "decayStep = 30000\n",
    "learningRateDecay=0.1\n",
    "lrType=1 #learning rate type\n",
    "lr2Period=5\n",
    "adam_beta1=0.9 # check adam optimization\n",
    "adam_beta2=0.99\n",
    "\n",
    "maxGradient = 1\n",
    "\n",
    "conWeightVar=['train/FeastNet','global_step']  #'FeastNet','global_step'# variables to be loaded\n",
    "saveStep=10 # frequency to save weight\n",
    "minSaveEpoch = 500\n",
    "maxKeepWeights=2000 # how many records to save (for disk)\n",
    "stepsContinue=-1  # from which steps continu.\n",
    "#For Debug and results printing\n",
    "keepProb=0.99999\n",
    "\n",
    "dat=\"FeastNet-Hand-V1-wen-XYZ\"\n",
    "Mconv = 16\n",
    "\n",
    "dirSave=\"./TFweights/Simple{}_Mconv_{}_Bs_{}_lrT_{}_LR_{}_LRdecay_{}_Dkp_{}_MaxGradient_{}\".format(\n",
    "    dat, Mconv, batSize, lrType, learningRate, learningRateDecay,keepProb,maxGradient)\n",
    "\n",
    "if os.path.exists(dirSave):\n",
    "    shutil.rmtree(dirSave, True)\n",
    "    os.makedirs(dirSave)\n",
    "else:\n",
    "    os.makedirs(dirSave)\n",
    "# if os.path.exists(dirSave):\n",
    "# #     os.removedirs(dirSave) \n",
    "#     os.system(rm -rf dirSave)\n",
    "# os.mkdir(dirSave)\n",
    "\n",
    "#conWeightPath=\"./TFweights/Simple2Dto3DMGPU_NR_1_FBN_0_Ss_1024_Bs_32_lrT_1_LR_0.001_LRdecay_0.999_Dkp_0.99999\"\n",
    "conWeightPath=\"\""
   ]
  },
  {
   "cell_type": "code",
   "execution_count": 6,
   "metadata": {
    "collapsed": false
   },
   "outputs": [],
   "source": [
    "# !rm -rf dirSave\n",
    "# os.rmdirs(dirSave) "
   ]
  },
  {
   "cell_type": "code",
   "execution_count": 7,
   "metadata": {
    "collapsed": false
   },
   "outputs": [
    {
     "name": "stdout",
     "output_type": "stream",
     "text": [
      "inputs.shape, adj.shape, label.shape (20,) (20,) (20,)\n"
     ]
    }
   ],
   "source": [
    "# Load data\n",
    "f = open('PSB_Hand_wen.pkl', 'r')\n",
    "all_inputs, all_adj, all_label = pickle.load(f)\n",
    "f.close()\n",
    "print('inputs.shape, adj.shape, label.shape', all_inputs.shape, all_adj.shape, all_label.shape)\n",
    "\n",
    "np.random.seed(seed)\n",
    "np.random.shuffle(all_inputs)\n",
    "np.random.seed(seed)\n",
    "np.random.shuffle(all_adj)\n",
    "np.random.seed(seed)\n",
    "np.random.shuffle(all_label)\n",
    "\n",
    "all_idxs = range(len(all_label))\n",
    "np.random.seed(seed)\n",
    "np.random.shuffle(all_idxs)\n",
    "np.save(os.path.join(dirSave, 'shuffle_idxs.npy'), all_idxs)"
   ]
  },
  {
   "cell_type": "code",
   "execution_count": 8,
   "metadata": {
    "collapsed": false
   },
   "outputs": [
    {
     "data": {
      "text/plain": [
       "((17044,), (13210,), <function all>)"
      ]
     },
     "execution_count": 8,
     "metadata": {},
     "output_type": "execute_result"
    }
   ],
   "source": [
    "all_label[0].shape,all_label[1].shape, all"
   ]
  },
  {
   "cell_type": "code",
   "execution_count": 9,
   "metadata": {
    "collapsed": false
   },
   "outputs": [],
   "source": [
    "batch_size=1\n",
    "nClass = 8\n",
    "ARCHITECTURE=0\n",
    "Mconv=32\n",
    "MAX_EPOCH=10000"
   ]
  },
  {
   "cell_type": "code",
   "execution_count": null,
   "metadata": {
    "collapsed": true
   },
   "outputs": [],
   "source": [
    "trLen = 12"
   ]
  },
  {
   "cell_type": "code",
   "execution_count": null,
   "metadata": {
    "collapsed": true
   },
   "outputs": [],
   "source": []
  },
  {
   "cell_type": "code",
   "execution_count": null,
   "metadata": {
    "collapsed": false,
    "scrolled": true
   },
   "outputs": [
    {
     "name": "stdout",
     "output_type": "stream",
     "text": [
      "Tensor(\"train/FeastNet/FC0/Relu:0\", shape=(1, ?, 16), dtype=float32)\n",
      "Translation-invariant\n",
      "\n",
      "Tensor(\"train/FeastNet/Conv1/Relu:0\", shape=(1, ?, 32), dtype=float32)\n",
      "Translation-invariant\n",
      "\n",
      "Tensor(\"train/FeastNet/Conv2/Relu:0\", shape=(1, ?, 64), dtype=float32)\n",
      "Translation-invariant\n",
      "\n",
      "Tensor(\"train/FeastNet/Conv3/Relu:0\", shape=(1, ?, 64), dtype=float32)\n",
      "Tensor(\"train/FeastNet/Lin0/Relu:0\", shape=(1, ?, 256), dtype=float32)\n",
      "h_cont0:\n",
      "Tensor(\"train/FeastNet/Cont0/Relu:0\", shape=(1, ?, 259), dtype=float32)\n",
      "Tensor(\"train/FeastNet/Lin1/custom_lin/add:0\", shape=(1, ?, 8), dtype=float32)\n",
      "(1, ?, 8) (1, ?)\n"
     ]
    },
    {
     "name": "stderr",
     "output_type": "stream",
     "text": [
      "/home/mmvc/anaconda2/envs/Xiang_Li/lib/python2.7/site-packages/tensorflow/python/ops/gradients_impl.py:96: UserWarning: Converting sparse IndexedSlices to a dense Tensor of unknown shape. This may consume a large amount of memory.\n",
      "  \"Converting sparse IndexedSlices to a dense Tensor of unknown shape. \"\n"
     ]
    },
    {
     "name": "stdout",
     "output_type": "stream",
     "text": [
      "**** EPOCH 000 ****\n",
      "mean loss: 2.146325\n",
      "accuracy: 0.472958\n",
      "**** EPOCH 001 ****\n",
      "mean loss: 2.484785\n",
      "accuracy: 0.470558\n",
      "**** EPOCH 002 ****\n",
      "mean loss: 2.233383\n",
      "accuracy: 0.506825\n",
      "**** EPOCH 003 ****\n",
      "mean loss: 1.899615\n",
      "accuracy: 0.493655\n",
      "**** EPOCH 004 ****\n",
      "mean loss: 1.999413\n",
      "accuracy: 0.496487\n",
      "**** EPOCH 005 ****\n",
      "mean loss: 1.520112\n",
      "accuracy: 0.517365\n",
      "**** EPOCH 006 ****\n",
      "mean loss: 1.472615\n",
      "accuracy: 0.530061\n",
      "**** EPOCH 007 ****\n",
      "mean loss: 1.388012\n",
      "accuracy: 0.517365\n",
      "**** EPOCH 008 ****\n",
      "mean loss: 1.350320\n",
      "accuracy: 0.529929\n",
      "**** EPOCH 009 ****\n"
     ]
    }
   ],
   "source": [
    "# def train():\n",
    "\n",
    "def train_one_epoch(sess, ops, train_writer):\n",
    "    \"\"\" ops: dict mapping from string to tf ops \"\"\"\n",
    "    is_training = True\n",
    "    loss_sum = 0.0\n",
    "    total_correct = 0.0\n",
    "    total_seen = 0.0\n",
    "    for idx in range(0,trLen):\n",
    "        # Construct feed dictionary\n",
    "        input_xyz = np.expand_dims(all_inputs[idx],0)\n",
    "        input_adj = np.expand_dims(all_adj[idx],0)\n",
    "        input_label = np.expand_dims(all_label[idx],0)\n",
    "        feed_dict = {ops['inputs_pl']: input_xyz,\n",
    "                     ops['adj_pl']: input_adj,\n",
    "                     ops['labels_pl']: input_label,\n",
    "                     ops['is_training_pl']: is_training}\n",
    "        step, _, train_pred, train_loss, train_correct = sess.run([ops['step'], ops['train_step'],\n",
    "                ops['pred'], ops['loss'], ops['correct']], feed_dict=feed_dict)\n",
    "        loss_sum += train_loss\n",
    "        total_correct += np.sum(train_correct)\n",
    "        total_seen += all_inputs[idx].shape[0]\n",
    "        \n",
    "#         print('train_pred, input_label', np.argmax(train_pred, axis=-1), input_label)\n",
    "    \n",
    "    mean_loss = loss_sum / float(trLen)\n",
    "    mean_acc = total_correct / float(total_seen)\n",
    "#     print('mean loss: %f' % (mean_loss))\n",
    "#     print('accuracy: %f' % (mean_acc))\n",
    "    return mean_loss, mean_acc\n",
    "\n",
    "        \n",
    "def eval_one_epoch(sess, ops, test_writer):\n",
    "    \"\"\" ops: dict mapping from string to tf ops \"\"\"\n",
    "    is_training = False\n",
    "    loss_sum = 0.0\n",
    "    total_correct = 0.0\n",
    "    total_seen = 0.0\n",
    "    for idx in range(trLen,len(all_inputs)):\n",
    "        # Construct feed dictionary\n",
    "        input_xyz = np.expand_dims(all_inputs[idx],0)\n",
    "        input_adj = np.expand_dims(all_adj[idx],0)\n",
    "        input_label = np.expand_dims(all_label[idx],0)\n",
    "        feed_dict = {ops['inputs_pl']: input_xyz,\n",
    "                     ops['adj_pl']: input_adj,\n",
    "                     ops['labels_pl']: input_label,\n",
    "                     ops['is_training_pl']: is_training}\n",
    "        _, train_pred, train_loss, train_correct = sess.run([ops['train_step'],\n",
    "                ops['pred'], ops['loss'], ops['correct']], feed_dict=feed_dict)\n",
    "        loss_sum += train_loss\n",
    "        total_correct += np.sum(train_correct)\n",
    "        total_seen += all_inputs[idx].shape[0]\n",
    "        \n",
    "#         print('train_pred, input_label', np.argmax(train_pred, axis=-1), input_label)\n",
    "        \n",
    "    mean_loss = loss_sum / float(len(all_inputs)-trLen)\n",
    "    mean_acc = total_correct / float(total_seen)\n",
    "    print('mean loss: %f' % (mean_loss))\n",
    "    print('accuracy: %f' % (mean_acc))\n",
    "    return mean_loss, mean_acc\n",
    "\n",
    "inputs_pl = tf.placeholder(tf.float32, shape=(batch_size, None, 3))\n",
    "adj_pl = tf.placeholder(tf.float32, shape=(batch_size, None, 3))\n",
    "labels_pl = tf.placeholder(tf.int32, shape=(batch_size,None))\n",
    "is_training_pl = tf.placeholder(tf.bool, shape=(None))\n",
    "\n",
    "# Note the global_step=batch parameter to minimize. \n",
    "# That tells the optimizer to helpfully increment the 'batch' parameter for you every time it trains.\n",
    "batch = tf.Variable(0)\n",
    "\n",
    "global_step = tf.Variable(1, trainable=False,name='global_step')\n",
    "\n",
    "# Create model\n",
    "with tf.variable_scope(\"train\") as scope1:\n",
    "    y_conv, end_points = get_model_xyz(inputs_pl, adj_pl, nClass, ARCHITECTURE, is_training_pl, Mconv)\n",
    "\n",
    "# Get model and loss \n",
    "\n",
    "print(y_conv.shape, labels_pl.shape)\n",
    "correct = tf.equal(tf.argmax(y_conv, 2), tf.to_int64(labels_pl))\n",
    "accuracy = tf.reduce_sum(tf.cast(correct, tf.float32)) / float(batch_size)\n",
    "Loss = tf.reduce_mean(tf.reduce_mean(tf.nn.sparse_softmax_cross_entropy_with_logits(labels=labels_pl, logits=y_conv), axis=1))\n",
    "\n",
    "#Learning Rate****************************************************************************\n",
    "\n",
    "lr = tf.train.exponential_decay(learningRate, global_step,\n",
    "                                              decayStep, learningRateDecay, staircase=True) \n",
    "lr=tf.clip_by_value(lr, 1e-6,1)\n",
    "\n",
    "# Optimization Algo************************************************************************\n",
    "train_step = tf.train.AdamOptimizer(learning_rate=lr,\n",
    "                                                beta1=adam_beta1,\n",
    "                                                beta2=adam_beta2\n",
    "                                               ).minimize(Loss,global_step=global_step)\n",
    "\n",
    "saver = tf.train.Saver(max_to_keep=int(maxKeepWeights))\n",
    "\n",
    "init_op = tf.group(tf.global_variables_initializer(),\n",
    "                           tf.local_variables_initializer())\n",
    "\n",
    "# Init variables\n",
    "init = tf.group(tf.global_variables_initializer(), tf.local_variables_initializer())\n",
    "\n",
    "\n",
    "# Continue Training************************************************************************\n",
    "if len(conWeightPath)>0:\n",
    "    print(\"Continue Training...\")\n",
    "    tmp_var_list={}\n",
    "    if len(conWeightVar)==0:\n",
    "        print(\"For all variables\")\n",
    "        globals()['conWeightVar']={''}\n",
    "    else:\n",
    "        print(\"Training variables: {}\".format(conWeightVar))\n",
    "\n",
    "    for j in conWeightVar: \n",
    "        for i in tf.global_variables():\n",
    "            if i.name.startswith(j):\n",
    "                tmp_var_list[i.name[:-2]] = i\n",
    "                \n",
    "\n",
    "    saver1=tf.train.Saver(tmp_var_list) \n",
    "# For Testing Dosent matther****************************************************************   \n",
    "\n",
    "\n",
    "# Initialize session\n",
    "sess = tf.Session()\n",
    "\n",
    "# Add summary writers\n",
    "merged = tf.summary.merge_all()\n",
    "train_writer = tf.summary.FileWriter(os.path.join(dirSave, 'train'), sess.graph)\n",
    "test_writer = tf.summary.FileWriter(os.path.join(dirSave, 'test'), sess.graph)\n",
    "\n",
    "sess.run(init, {is_training_pl: True})\n",
    "\n",
    "\n",
    "# Read Weight******************************\n",
    "if len(conWeightPath)>0:\n",
    "    print(conWeightPath)\n",
    "    if stepsContinue==-1:            \n",
    "        STEPS=sorted([int(i.split(\"/\")[-1].split(\".\")[1].split(\"-\")[-1]) for i in glob.glob(conWeightPath+\"/*meta\")])\n",
    "        globals()['stepsContinue']=STEPS[-1]\n",
    "\n",
    "    wtt=glob.glob(conWeightPath+\"/*{}*meta\".format(stepsContinue))[0][:-5]\n",
    "    print(\"Reading Weight:{}\".format(wtt))\n",
    "    saver1.restore(sess,wtt)\n",
    "    print('Weight is successfully updated from: {}'.format(wtt))  \n",
    "#*******************************************    \n",
    "\n",
    "ops = {'inputs_pl': inputs_pl,\n",
    "       'adj_pl': adj_pl,\n",
    "       'labels_pl': labels_pl,\n",
    "       'pred': y_conv,\n",
    "       'correct': correct,\n",
    "       'loss': Loss,\n",
    "       'train_step': train_step,\n",
    "        'is_training_pl': is_training_pl,\n",
    "        'step': global_step}\n",
    "\n",
    "bestacc = 90\n",
    "trainval_acc_list = []\n",
    "for epoch in range(MAX_EPOCH):\n",
    "    print('**** EPOCH %03d ****' % (epoch))\n",
    "    sys.stdout.flush()\n",
    "\n",
    "    _, cur_acc_tr = train_one_epoch(sess, ops, train_writer)\n",
    "    _, cur_acc_t = eval_one_epoch(sess, ops, test_writer)\n",
    "    trainval_acc_list.append([cur_acc_tr, cur_acc_t])\n",
    "    # Save the variables to disk.\n",
    "    if epoch>minSaveEpoch:\n",
    "#         if ((epoch % saveStep == 0) & (cur_acc_t>bestacc)):\n",
    "        if (cur_acc_t>bestacc):\n",
    "            bestacc = cur_acc_t\n",
    "            save_path = saver.save(sess, os.path.join(dirSave, \"model_{}.ckpt\".format(epoch)))\n",
    "            print(\"Model saved in file: %s\" % save_path)\n",
    "    \n",
    "    np.savetxt(os.path.join(dirSave, 'result_acc.txt'), trainval_acc_list, fmt='%d')"
   ]
  },
  {
   "cell_type": "code",
   "execution_count": null,
   "metadata": {
    "collapsed": true
   },
   "outputs": [],
   "source": []
  },
  {
   "cell_type": "code",
   "execution_count": null,
   "metadata": {
    "collapsed": true
   },
   "outputs": [],
   "source": []
  },
  {
   "cell_type": "code",
   "execution_count": null,
   "metadata": {
    "collapsed": true
   },
   "outputs": [],
   "source": []
  }
 ],
 "metadata": {
  "anaconda-cloud": {},
  "kernelspec": {
   "display_name": "Python [conda env:Xiang_Li]",
   "language": "python",
   "name": "conda-env-Xiang_Li-py"
  },
  "language_info": {
   "codemirror_mode": {
    "name": "ipython",
    "version": 2
   },
   "file_extension": ".py",
   "mimetype": "text/x-python",
   "name": "python",
   "nbconvert_exporter": "python",
   "pygments_lexer": "ipython2",
   "version": "2.7.12"
  }
 },
 "nbformat": 4,
 "nbformat_minor": 1
}
